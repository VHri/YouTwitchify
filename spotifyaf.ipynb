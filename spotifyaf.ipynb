{
 "cells": [
  {
   "cell_type": "code",
   "execution_count": 1,
   "metadata": {},
   "outputs": [],
   "source": [
    "import os\n",
    "import json\n",
    "import spotipy\n",
    "from spotipy.oauth2 import SpotifyClientCredentials\n",
    "import spotipy.util as util"
   ]
  },
  {
   "cell_type": "code",
   "execution_count": 9,
   "metadata": {},
   "outputs": [],
   "source": [
    "cid =\"08e04f879f8f47bcbd25377aec2133f4\" \n",
    "secret = \"7e78874a40d342c3889e0c82bfd6b6fa\"\n",
    "\n",
    "os.environ['SPOTIPY_CLIENT_ID']= cid\n",
    "os.environ['SPOTIPY_CLIENT_SECRET']= secret\n",
    "os.environ['SPOTIPY_REDIRECT_URI']='http://localhost:7777/callback'"
   ]
  },
  {
   "cell_type": "code",
   "execution_count": 10,
   "metadata": {},
   "outputs": [],
   "source": [
    "username = \"\"\n",
    "\n",
    "client_credentials_manager = SpotifyClientCredentials(client_id=cid, client_secret=secret) \n",
    "sp = spotipy.Spotify(client_credentials_manager=client_credentials_manager)\n",
    "scope = 'user-top-read'\n",
    "token = util.prompt_for_user_token(username, scope)\n",
    "\n",
    "if token:\n",
    "    sp = spotipy.Spotify(auth=token)\n",
    "else:\n",
    "    print(\"Can't get token for\", username)"
   ]
  },
  {
   "cell_type": "code",
   "execution_count": 16,
   "metadata": {},
   "outputs": [
    {
     "name": "stderr",
     "output_type": "stream",
     "text": [
      "HTTP Error for GET to https://api.spotify.com/v1/me/top/tracks with Params: {'time_range': 'medium_term', 'limit': 50, 'offset': 0} returned 401 due to The access token expired\n"
     ]
    },
    {
     "ename": "SpotifyException",
     "evalue": "http status: 401, code:-1 - https://api.spotify.com/v1/me/top/tracks?time_range=medium_term&limit=50&offset=0:\n The access token expired, reason: None",
     "output_type": "error",
     "traceback": [
      "\u001b[1;31m---------------------------------------------------------------------------\u001b[0m",
      "\u001b[1;31mHTTPError\u001b[0m                                 Traceback (most recent call last)",
      "File \u001b[1;32mc:\\Users\\suraj_gjnx4vc\\anaconda3\\envs\\Major\\lib\\site-packages\\spotipy\\client.py:245\u001b[0m, in \u001b[0;36mSpotify._internal_call\u001b[1;34m(self, method, url, payload, params)\u001b[0m\n\u001b[0;32m    <a href='file:///c%3A/Users/suraj_gjnx4vc/anaconda3/envs/Major/lib/site-packages/spotipy/client.py?line=239'>240</a>\u001b[0m response \u001b[39m=\u001b[39m \u001b[39mself\u001b[39m\u001b[39m.\u001b[39m_session\u001b[39m.\u001b[39mrequest(\n\u001b[0;32m    <a href='file:///c%3A/Users/suraj_gjnx4vc/anaconda3/envs/Major/lib/site-packages/spotipy/client.py?line=240'>241</a>\u001b[0m     method, url, headers\u001b[39m=\u001b[39mheaders, proxies\u001b[39m=\u001b[39m\u001b[39mself\u001b[39m\u001b[39m.\u001b[39mproxies,\n\u001b[0;32m    <a href='file:///c%3A/Users/suraj_gjnx4vc/anaconda3/envs/Major/lib/site-packages/spotipy/client.py?line=241'>242</a>\u001b[0m     timeout\u001b[39m=\u001b[39m\u001b[39mself\u001b[39m\u001b[39m.\u001b[39mrequests_timeout, \u001b[39m*\u001b[39m\u001b[39m*\u001b[39margs\n\u001b[0;32m    <a href='file:///c%3A/Users/suraj_gjnx4vc/anaconda3/envs/Major/lib/site-packages/spotipy/client.py?line=242'>243</a>\u001b[0m )\n\u001b[1;32m--> <a href='file:///c%3A/Users/suraj_gjnx4vc/anaconda3/envs/Major/lib/site-packages/spotipy/client.py?line=244'>245</a>\u001b[0m response\u001b[39m.\u001b[39;49mraise_for_status()\n\u001b[0;32m    <a href='file:///c%3A/Users/suraj_gjnx4vc/anaconda3/envs/Major/lib/site-packages/spotipy/client.py?line=245'>246</a>\u001b[0m results \u001b[39m=\u001b[39m response\u001b[39m.\u001b[39mjson()\n",
      "File \u001b[1;32mc:\\Users\\suraj_gjnx4vc\\anaconda3\\envs\\Major\\lib\\site-packages\\requests\\models.py:953\u001b[0m, in \u001b[0;36mResponse.raise_for_status\u001b[1;34m(self)\u001b[0m\n\u001b[0;32m    <a href='file:///c%3A/Users/suraj_gjnx4vc/anaconda3/envs/Major/lib/site-packages/requests/models.py?line=951'>952</a>\u001b[0m \u001b[39mif\u001b[39;00m http_error_msg:\n\u001b[1;32m--> <a href='file:///c%3A/Users/suraj_gjnx4vc/anaconda3/envs/Major/lib/site-packages/requests/models.py?line=952'>953</a>\u001b[0m     \u001b[39mraise\u001b[39;00m HTTPError(http_error_msg, response\u001b[39m=\u001b[39m\u001b[39mself\u001b[39m)\n",
      "\u001b[1;31mHTTPError\u001b[0m: 401 Client Error: Unauthorized for url: https://api.spotify.com/v1/me/top/tracks?time_range=medium_term&limit=50&offset=0",
      "\nDuring handling of the above exception, another exception occurred:\n",
      "\u001b[1;31mSpotifyException\u001b[0m                          Traceback (most recent call last)",
      "\u001b[1;32mc:\\Users\\suraj_gjnx4vc\\Desktop\\Major-Twitch\\spotifyaf.ipynb Cell 4'\u001b[0m in \u001b[0;36m<cell line: 1>\u001b[1;34m()\u001b[0m\n\u001b[0;32m      <a href='vscode-notebook-cell:/c%3A/Users/suraj_gjnx4vc/Desktop/Major-Twitch/spotifyaf.ipynb#ch0000003?line=0'>1</a>\u001b[0m \u001b[39mif\u001b[39;00m token:\n\u001b[0;32m      <a href='vscode-notebook-cell:/c%3A/Users/suraj_gjnx4vc/Desktop/Major-Twitch/spotifyaf.ipynb#ch0000003?line=1'>2</a>\u001b[0m     sp \u001b[39m=\u001b[39m spotipy\u001b[39m.\u001b[39mSpotify(auth\u001b[39m=\u001b[39mtoken)\n\u001b[1;32m----> <a href='vscode-notebook-cell:/c%3A/Users/suraj_gjnx4vc/Desktop/Major-Twitch/spotifyaf.ipynb#ch0000003?line=2'>3</a>\u001b[0m     results \u001b[39m=\u001b[39m sp\u001b[39m.\u001b[39;49mcurrent_user_top_tracks(limit\u001b[39m=\u001b[39;49m\u001b[39m50\u001b[39;49m,offset\u001b[39m=\u001b[39;49m\u001b[39m0\u001b[39;49m,time_range\u001b[39m=\u001b[39;49m\u001b[39m'\u001b[39;49m\u001b[39mmedium_term\u001b[39;49m\u001b[39m'\u001b[39;49m)\n\u001b[0;32m      <a href='vscode-notebook-cell:/c%3A/Users/suraj_gjnx4vc/Desktop/Major-Twitch/spotifyaf.ipynb#ch0000003?line=3'>4</a>\u001b[0m     \u001b[39mfor\u001b[39;00m song \u001b[39min\u001b[39;00m \u001b[39mrange\u001b[39m(\u001b[39m50\u001b[39m):\n\u001b[0;32m      <a href='vscode-notebook-cell:/c%3A/Users/suraj_gjnx4vc/Desktop/Major-Twitch/spotifyaf.ipynb#ch0000003?line=4'>5</a>\u001b[0m         \u001b[39mlist\u001b[39m \u001b[39m=\u001b[39m []\n",
      "File \u001b[1;32mc:\\Users\\suraj_gjnx4vc\\anaconda3\\envs\\Major\\lib\\site-packages\\spotipy\\client.py:1428\u001b[0m, in \u001b[0;36mSpotify.current_user_top_tracks\u001b[1;34m(self, limit, offset, time_range)\u001b[0m\n\u001b[0;32m   <a href='file:///c%3A/Users/suraj_gjnx4vc/anaconda3/envs/Major/lib/site-packages/spotipy/client.py?line=1416'>1417</a>\u001b[0m \u001b[39mdef\u001b[39;00m \u001b[39mcurrent_user_top_tracks\u001b[39m(\n\u001b[0;32m   <a href='file:///c%3A/Users/suraj_gjnx4vc/anaconda3/envs/Major/lib/site-packages/spotipy/client.py?line=1417'>1418</a>\u001b[0m     \u001b[39mself\u001b[39m, limit\u001b[39m=\u001b[39m\u001b[39m20\u001b[39m, offset\u001b[39m=\u001b[39m\u001b[39m0\u001b[39m, time_range\u001b[39m=\u001b[39m\u001b[39m\"\u001b[39m\u001b[39mmedium_term\u001b[39m\u001b[39m\"\u001b[39m\n\u001b[0;32m   <a href='file:///c%3A/Users/suraj_gjnx4vc/anaconda3/envs/Major/lib/site-packages/spotipy/client.py?line=1418'>1419</a>\u001b[0m ):\n\u001b[0;32m   <a href='file:///c%3A/Users/suraj_gjnx4vc/anaconda3/envs/Major/lib/site-packages/spotipy/client.py?line=1419'>1420</a>\u001b[0m     \u001b[39m\"\"\" Get the current user's top tracks\u001b[39;00m\n\u001b[0;32m   <a href='file:///c%3A/Users/suraj_gjnx4vc/anaconda3/envs/Major/lib/site-packages/spotipy/client.py?line=1420'>1421</a>\u001b[0m \n\u001b[0;32m   <a href='file:///c%3A/Users/suraj_gjnx4vc/anaconda3/envs/Major/lib/site-packages/spotipy/client.py?line=1421'>1422</a>\u001b[0m \u001b[39m        Parameters:\u001b[39;00m\n\u001b[1;32m   (...)\u001b[0m\n\u001b[0;32m   <a href='file:///c%3A/Users/suraj_gjnx4vc/anaconda3/envs/Major/lib/site-packages/spotipy/client.py?line=1425'>1426</a>\u001b[0m \u001b[39m              Valid-values: short_term, medium_term, long_term\u001b[39;00m\n\u001b[0;32m   <a href='file:///c%3A/Users/suraj_gjnx4vc/anaconda3/envs/Major/lib/site-packages/spotipy/client.py?line=1426'>1427</a>\u001b[0m \u001b[39m    \"\"\"\u001b[39;00m\n\u001b[1;32m-> <a href='file:///c%3A/Users/suraj_gjnx4vc/anaconda3/envs/Major/lib/site-packages/spotipy/client.py?line=1427'>1428</a>\u001b[0m     \u001b[39mreturn\u001b[39;00m \u001b[39mself\u001b[39;49m\u001b[39m.\u001b[39;49m_get(\n\u001b[0;32m   <a href='file:///c%3A/Users/suraj_gjnx4vc/anaconda3/envs/Major/lib/site-packages/spotipy/client.py?line=1428'>1429</a>\u001b[0m         \u001b[39m\"\u001b[39;49m\u001b[39mme/top/tracks\u001b[39;49m\u001b[39m\"\u001b[39;49m, time_range\u001b[39m=\u001b[39;49mtime_range, limit\u001b[39m=\u001b[39;49mlimit, offset\u001b[39m=\u001b[39;49moffset\n\u001b[0;32m   <a href='file:///c%3A/Users/suraj_gjnx4vc/anaconda3/envs/Major/lib/site-packages/spotipy/client.py?line=1429'>1430</a>\u001b[0m     )\n",
      "File \u001b[1;32mc:\\Users\\suraj_gjnx4vc\\anaconda3\\envs\\Major\\lib\\site-packages\\spotipy\\client.py:297\u001b[0m, in \u001b[0;36mSpotify._get\u001b[1;34m(self, url, args, payload, **kwargs)\u001b[0m\n\u001b[0;32m    <a href='file:///c%3A/Users/suraj_gjnx4vc/anaconda3/envs/Major/lib/site-packages/spotipy/client.py?line=293'>294</a>\u001b[0m \u001b[39mif\u001b[39;00m args:\n\u001b[0;32m    <a href='file:///c%3A/Users/suraj_gjnx4vc/anaconda3/envs/Major/lib/site-packages/spotipy/client.py?line=294'>295</a>\u001b[0m     kwargs\u001b[39m.\u001b[39mupdate(args)\n\u001b[1;32m--> <a href='file:///c%3A/Users/suraj_gjnx4vc/anaconda3/envs/Major/lib/site-packages/spotipy/client.py?line=296'>297</a>\u001b[0m \u001b[39mreturn\u001b[39;00m \u001b[39mself\u001b[39;49m\u001b[39m.\u001b[39;49m_internal_call(\u001b[39m\"\u001b[39;49m\u001b[39mGET\u001b[39;49m\u001b[39m\"\u001b[39;49m, url, payload, kwargs)\n",
      "File \u001b[1;32mc:\\Users\\suraj_gjnx4vc\\anaconda3\\envs\\Major\\lib\\site-packages\\spotipy\\client.py:267\u001b[0m, in \u001b[0;36mSpotify._internal_call\u001b[1;34m(self, method, url, payload, params)\u001b[0m\n\u001b[0;32m    <a href='file:///c%3A/Users/suraj_gjnx4vc/anaconda3/envs/Major/lib/site-packages/spotipy/client.py?line=259'>260</a>\u001b[0m         reason \u001b[39m=\u001b[39m \u001b[39mNone\u001b[39;00m\n\u001b[0;32m    <a href='file:///c%3A/Users/suraj_gjnx4vc/anaconda3/envs/Major/lib/site-packages/spotipy/client.py?line=261'>262</a>\u001b[0m     logger\u001b[39m.\u001b[39merror(\n\u001b[0;32m    <a href='file:///c%3A/Users/suraj_gjnx4vc/anaconda3/envs/Major/lib/site-packages/spotipy/client.py?line=262'>263</a>\u001b[0m         \u001b[39m'\u001b[39m\u001b[39mHTTP Error for \u001b[39m\u001b[39m%s\u001b[39;00m\u001b[39m to \u001b[39m\u001b[39m%s\u001b[39;00m\u001b[39m with Params: \u001b[39m\u001b[39m%s\u001b[39;00m\u001b[39m returned \u001b[39m\u001b[39m%s\u001b[39;00m\u001b[39m due to \u001b[39m\u001b[39m%s\u001b[39;00m\u001b[39m'\u001b[39m,\n\u001b[0;32m    <a href='file:///c%3A/Users/suraj_gjnx4vc/anaconda3/envs/Major/lib/site-packages/spotipy/client.py?line=263'>264</a>\u001b[0m         method, url, args\u001b[39m.\u001b[39mget(\u001b[39m\"\u001b[39m\u001b[39mparams\u001b[39m\u001b[39m\"\u001b[39m), response\u001b[39m.\u001b[39mstatus_code, msg\n\u001b[0;32m    <a href='file:///c%3A/Users/suraj_gjnx4vc/anaconda3/envs/Major/lib/site-packages/spotipy/client.py?line=264'>265</a>\u001b[0m     )\n\u001b[1;32m--> <a href='file:///c%3A/Users/suraj_gjnx4vc/anaconda3/envs/Major/lib/site-packages/spotipy/client.py?line=266'>267</a>\u001b[0m     \u001b[39mraise\u001b[39;00m SpotifyException(\n\u001b[0;32m    <a href='file:///c%3A/Users/suraj_gjnx4vc/anaconda3/envs/Major/lib/site-packages/spotipy/client.py?line=267'>268</a>\u001b[0m         response\u001b[39m.\u001b[39mstatus_code,\n\u001b[0;32m    <a href='file:///c%3A/Users/suraj_gjnx4vc/anaconda3/envs/Major/lib/site-packages/spotipy/client.py?line=268'>269</a>\u001b[0m         \u001b[39m-\u001b[39m\u001b[39m1\u001b[39m,\n\u001b[0;32m    <a href='file:///c%3A/Users/suraj_gjnx4vc/anaconda3/envs/Major/lib/site-packages/spotipy/client.py?line=269'>270</a>\u001b[0m         \u001b[39m\"\u001b[39m\u001b[39m%s\u001b[39;00m\u001b[39m:\u001b[39m\u001b[39m\\n\u001b[39;00m\u001b[39m \u001b[39m\u001b[39m%s\u001b[39;00m\u001b[39m\"\u001b[39m \u001b[39m%\u001b[39m (response\u001b[39m.\u001b[39murl, msg),\n\u001b[0;32m    <a href='file:///c%3A/Users/suraj_gjnx4vc/anaconda3/envs/Major/lib/site-packages/spotipy/client.py?line=270'>271</a>\u001b[0m         reason\u001b[39m=\u001b[39mreason,\n\u001b[0;32m    <a href='file:///c%3A/Users/suraj_gjnx4vc/anaconda3/envs/Major/lib/site-packages/spotipy/client.py?line=271'>272</a>\u001b[0m         headers\u001b[39m=\u001b[39mresponse\u001b[39m.\u001b[39mheaders,\n\u001b[0;32m    <a href='file:///c%3A/Users/suraj_gjnx4vc/anaconda3/envs/Major/lib/site-packages/spotipy/client.py?line=272'>273</a>\u001b[0m     )\n\u001b[0;32m    <a href='file:///c%3A/Users/suraj_gjnx4vc/anaconda3/envs/Major/lib/site-packages/spotipy/client.py?line=273'>274</a>\u001b[0m \u001b[39mexcept\u001b[39;00m requests\u001b[39m.\u001b[39mexceptions\u001b[39m.\u001b[39mRetryError \u001b[39mas\u001b[39;00m retry_error:\n\u001b[0;32m    <a href='file:///c%3A/Users/suraj_gjnx4vc/anaconda3/envs/Major/lib/site-packages/spotipy/client.py?line=274'>275</a>\u001b[0m     request \u001b[39m=\u001b[39m retry_error\u001b[39m.\u001b[39mrequest\n",
      "\u001b[1;31mSpotifyException\u001b[0m: http status: 401, code:-1 - https://api.spotify.com/v1/me/top/tracks?time_range=medium_term&limit=50&offset=0:\n The access token expired, reason: None"
     ]
    }
   ],
   "source": [
    "if token:\n",
    "    sp = spotipy.Spotify(auth=token)\n",
    "    results = sp.current_user_top_tracks(limit=50,offset=0,time_range='medium_term')\n",
    "    for song in range(50):\n",
    "        list = []\n",
    "        list.append(results)\n",
    "        with open('top50_data.json', 'w', encoding='utf-8') as f:\n",
    "            json.dump(list, f, ensure_ascii=False, indent=4)\n",
    "else:\n",
    "    print(\"Can't get token for\", username)"
   ]
  },
  {
   "cell_type": "code",
   "execution_count": null,
   "metadata": {},
   "outputs": [],
   "source": [
    "import json\n",
    "import pandas as pd\n",
    "import matplotlib.pyplot as plt\n",
    "import seaborn as sb\n",
    "\n",
    "with open('top50_data.json') as f:\n",
    "  data = json.load(f)\n",
    "  "
   ]
  },
  {
   "cell_type": "code",
   "execution_count": 17,
   "metadata": {},
   "outputs": [],
   "source": [
    "list_of_results = data[0][\"items\"]\n",
    "list_of_artist_names = []\n",
    "list_of_artist_uri = []\n",
    "list_of_song_names = []\n",
    "list_of_song_uri = []\n",
    "list_of_durations_ms = []\n",
    "list_of_explicit = []\n",
    "list_of_albums = []\n",
    "list_of_popularity = []\n",
    "\n",
    "for result in list_of_results:\n",
    "    result[\"album\"]\n",
    "    this_artists_name = result[\"artists\"][0][\"name\"]\n",
    "    list_of_artist_names.append(this_artists_name)\n",
    "    this_artists_uri = result[\"artists\"][0][\"uri\"]\n",
    "    list_of_artist_uri.append(this_artists_uri)\n",
    "    list_of_songs = result[\"name\"]\n",
    "    list_of_song_names.append(list_of_songs)\n",
    "    song_uri = result[\"uri\"]\n",
    "    list_of_song_uri.append(song_uri)\n",
    "    list_of_duration = result[\"duration_ms\"]\n",
    "    list_of_durations_ms.append(list_of_duration)\n",
    "    song_explicit = result[\"explicit\"]\n",
    "    list_of_explicit.append(song_explicit)\n",
    "    this_album = result[\"album\"][\"name\"]\n",
    "    list_of_albums.append(this_album)\n",
    "    song_popularity = result[\"popularity\"]\n",
    "    list_of_popularity.append(song_popularity)"
   ]
  },
  {
   "cell_type": "code",
   "execution_count": 18,
   "metadata": {},
   "outputs": [],
   "source": [
    "all_songs = pd.DataFrame(\n",
    "    {'artist': list_of_artist_names,\n",
    "     'artist_uri': list_of_artist_uri,\n",
    "     'song': list_of_song_names,\n",
    "     'song_uri': list_of_song_uri,\n",
    "     'duration_ms': list_of_durations_ms,\n",
    "     'explicit': list_of_explicit,\n",
    "     'album': list_of_albums,\n",
    "     'popularity': list_of_popularity\n",
    "     \n",
    "    })\n",
    "\n",
    "all_songs_saved = all_songs.to_csv('top50_songs.csv')"
   ]
  },
  {
   "cell_type": "code",
   "execution_count": 19,
   "metadata": {},
   "outputs": [
    {
     "ename": "NameError",
     "evalue": "name 'top50' is not defined",
     "output_type": "error",
     "traceback": [
      "\u001b[1;31m---------------------------------------------------------------------------\u001b[0m",
      "\u001b[1;31mNameError\u001b[0m                                 Traceback (most recent call last)",
      "\u001b[1;32mc:\\Users\\suraj_gjnx4vc\\Desktop\\Major-Twitch\\spotifyaf.ipynb Cell 8'\u001b[0m in \u001b[0;36m<cell line: 1>\u001b[1;34m()\u001b[0m\n\u001b[1;32m----> <a href='vscode-notebook-cell:/c%3A/Users/suraj_gjnx4vc/Desktop/Major-Twitch/spotifyaf.ipynb#ch0000007?line=0'>1</a>\u001b[0m descending_order \u001b[39m=\u001b[39m top50[\u001b[39m'\u001b[39m\u001b[39martist\u001b[39m\u001b[39m'\u001b[39m]\u001b[39m.\u001b[39mvalue_counts()\u001b[39m.\u001b[39msort_values(ascending\u001b[39m=\u001b[39m\u001b[39mFalse\u001b[39;00m)\u001b[39m.\u001b[39mindex\n\u001b[0;32m      <a href='vscode-notebook-cell:/c%3A/Users/suraj_gjnx4vc/Desktop/Major-Twitch/spotifyaf.ipynb#ch0000007?line=1'>2</a>\u001b[0m ax \u001b[39m=\u001b[39m sb\u001b[39m.\u001b[39mcountplot(y \u001b[39m=\u001b[39m top50[\u001b[39m'\u001b[39m\u001b[39martist\u001b[39m\u001b[39m'\u001b[39m], order\u001b[39m=\u001b[39mdescending_order)\n\u001b[0;32m      <a href='vscode-notebook-cell:/c%3A/Users/suraj_gjnx4vc/Desktop/Major-Twitch/spotifyaf.ipynb#ch0000007?line=3'>4</a>\u001b[0m sb\u001b[39m.\u001b[39mdespine(fig\u001b[39m=\u001b[39m\u001b[39mNone\u001b[39;00m, ax\u001b[39m=\u001b[39m\u001b[39mNone\u001b[39;00m, top\u001b[39m=\u001b[39m\u001b[39mTrue\u001b[39;00m, right\u001b[39m=\u001b[39m\u001b[39mTrue\u001b[39;00m, left\u001b[39m=\u001b[39m\u001b[39mFalse\u001b[39;00m, trim\u001b[39m=\u001b[39m\u001b[39mFalse\u001b[39;00m)\n",
      "\u001b[1;31mNameError\u001b[0m: name 'top50' is not defined"
     ]
    }
   ],
   "source": [
    "descending_order = top50['artist'].value_counts().sort_values(ascending=False).index\n",
    "ax = sb.countplot(y = top50['artist'], order=descending_order)\n",
    "\n",
    "sb.despine(fig=None, ax=None, top=True, right=True, left=False, trim=False)\n",
    "sb.set(rc={'figure.figsize':(6,7.2)})\n",
    "\n",
    "ax.set_ylabel('')    \n",
    "ax.set_xlabel('')\n",
    "ax.set_title('Songs per Artist in Top 50', fontsize=16, fontweight='heavy')\n",
    "sb.set(font_scale = 1.4)\n",
    "ax.axes.get_xaxis().set_visible(False)\n",
    "ax.set_frame_on(False)\n",
    "\n",
    "y = top50['artist'].value_counts()\n",
    "for i, v in enumerate(y):\n",
    "    ax.text(v + 0.2, i + .16, str(v), color='black', fontweight='light', fontsize=14)\n",
    "    \n",
    "plt.savefig('top50_songs_per_artist.jpg', bbox_inches=\"tight\")"
   ]
  },
  {
   "cell_type": "code",
   "execution_count": null,
   "metadata": {},
   "outputs": [],
   "source": []
  }
 ],
 "metadata": {
  "interpreter": {
   "hash": "3eddef5862543e99d9278d95ac0112ac1f89ba9eebcb98ad47a60d521615661e"
  },
  "kernelspec": {
   "display_name": "Python 3.8.12 ('Major')",
   "language": "python",
   "name": "python3"
  },
  "language_info": {
   "codemirror_mode": {
    "name": "ipython",
    "version": 3
   },
   "file_extension": ".py",
   "mimetype": "text/x-python",
   "name": "python",
   "nbconvert_exporter": "python",
   "pygments_lexer": "ipython3",
   "version": "3.8.12"
  },
  "orig_nbformat": 4
 },
 "nbformat": 4,
 "nbformat_minor": 2
}
